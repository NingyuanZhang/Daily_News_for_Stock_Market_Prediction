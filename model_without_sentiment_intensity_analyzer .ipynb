{
 "cells": [
  {
   "cell_type": "code",
   "execution_count": 1,
   "metadata": {},
   "outputs": [],
   "source": [
    "import findspark\n",
    "findspark.init()\n",
    "import pyspark\n",
    "from pyspark.sql import SparkSession\n",
    "from operator import add\n",
    "from pyspark import SparkContext\n",
    "from nltk.corpus import stopwords\n",
    "import nltk\n",
    "from nltk.stem.wordnet import WordNetLemmatizer\n",
    "lemmatizer = WordNetLemmatizer()\n",
    "import pandas as pd\n",
    "import numpy as np\n",
    "from sklearn.feature_extraction.text import CountVectorizer\n",
    "from sklearn.feature_extraction.text import TfidfVectorizer\n",
    "from wordcloud import WordCloud, STOPWORDS, ImageColorGenerator\n",
    "import matplotlib.pyplot as plt"
   ]
  },
  {
   "cell_type": "code",
   "execution_count": 2,
   "metadata": {},
   "outputs": [
    {
     "name": "stdout",
     "output_type": "stream",
     "text": [
      "['i', 'me', 'my', 'myself', 'we', 'our', 'ours', 'ourselves', 'you', \"you're\", \"you've\", \"you'll\", \"you'd\", 'your', 'yours', 'yourself', 'yourselves', 'he', 'him', 'his', 'himself', 'she', \"she's\", 'her', 'hers', 'herself', 'it', \"it's\", 'its', 'itself', 'they', 'them', 'their', 'theirs', 'themselves', 'what', 'which', 'who', 'whom', 'this', 'that', \"that'll\", 'these', 'those', 'am', 'is', 'are', 'was', 'were', 'be', 'been', 'being', 'have', 'has', 'had', 'having', 'do', 'does', 'did', 'doing', 'a', 'an', 'the', 'and', 'but', 'if', 'or', 'because', 'as', 'until', 'while', 'of', 'at', 'by', 'for', 'with', 'about', 'against', 'between', 'into', 'through', 'during', 'before', 'after', 'above', 'below', 'to', 'from', 'up', 'down', 'in', 'out', 'on', 'off', 'over', 'under', 'again', 'further', 'then', 'once', 'here', 'there', 'when', 'where', 'why', 'how', 'all', 'any', 'both', 'each', 'few', 'more', 'most', 'other', 'some', 'such', 'no', 'nor', 'not', 'only', 'own', 'same', 'so', 'than', 'too', 'very', 's', 't', 'can', 'will', 'just', 'don', \"don't\", 'should', \"should've\", 'now', 'd', 'll', 'm', 'o', 're', 've', 'y', 'ain', 'aren', \"aren't\", 'couldn', \"couldn't\", 'didn', \"didn't\", 'doesn', \"doesn't\", 'hadn', \"hadn't\", 'hasn', \"hasn't\", 'haven', \"haven't\", 'isn', \"isn't\", 'ma', 'mightn', \"mightn't\", 'mustn', \"mustn't\", 'needn', \"needn't\", 'shan', \"shan't\", 'shouldn', \"shouldn't\", 'wasn', \"wasn't\", 'weren', \"weren't\", 'won', \"won't\", 'wouldn', \"wouldn't\", 'the', 'say', 'could', 'would', 'may', 'nd', 'one', 'two', 'three', 'four', 'five', '']\n"
     ]
    }
   ],
   "source": [
    "filtered_words = [word for word in stopwords.words('english')]\n",
    "filtered_words.extend(['the','say','could','would','may','nd','one','two','three','four','five',''])\n",
    "print(filtered_words)\n",
    "punctuations = ['!',',','.','?','\"','\\'',':',';','\\\\']\n",
    "concate = '-'"
   ]
  },
  {
   "cell_type": "code",
   "execution_count": 3,
   "metadata": {},
   "outputs": [],
   "source": [
    "def Func_1(line):\n",
    "    row = \"\"\n",
    "    line = line.replace(\"\\\"\", \"\")\n",
    "    line = line.replace(\"\\'\", \"\")\n",
    "    line = line.split(\",b\")\n",
    "    for idx,cell in enumerate(line):\n",
    "        if(idx>=1):\n",
    "            size = len(cell)\n",
    "            cell = cell.lower()\n",
    "            cell_array = cell.split(\" \")\n",
    "            for word in cell_array:\n",
    "                if len(word)<2: continue\n",
    "                if any(char.isdigit() for char in word): continue \n",
    "                if 'aaa' in word : continue \n",
    "                if word not in filtered_words:\n",
    "                    for punc in punctuations:\n",
    "                        word = word.replace(punc,\"\")\n",
    "                    if word.startswith('[') or word.startswith('(') or word.startswith('*') or word.startswith('&') or word.startswith('$'): continue\n",
    "                    word = lemmatizer.lemmatize(word,'v')\n",
    "                    if len(word)<2 or word in filtered_words : continue\n",
    "                    if word[0].isdigit(): continue\n",
    "                    row = row + word +\" \"\n",
    "           \n",
    "    return row\n",
    "\n",
    "def cmp(a, b):\n",
    "    if b[1] < a[1]:\n",
    "        return -1\n",
    "    if a[1] < b[1]:\n",
    "        return 1\n",
    "    return 0"
   ]
  },
  {
   "cell_type": "code",
   "execution_count": 4,
   "metadata": {},
   "outputs": [],
   "source": [
    "sc =SparkContext()\n",
    "rdd = sc.textFile('data/new_data.csv')\n",
    "#rdd.take(5)\n",
    "lines = rdd.map(Func_1)\n",
    "docs=lines.take(1989)\n",
    "counts = lines.flatMap(lambda x: x.split(' '))\n",
    "counts = counts.filter(lambda x: x not in filtered_words)\n",
    "counts = counts.map(lambda x: (x, 1)) \\\n",
    "                  .reduceByKey(add)\n",
    "output = counts.collect()\n",
    "output.sort()\n",
    "output = sorted(output,key=lambda x: x[1],reverse = True)\n",
    "#print(output)\n",
    "sc.stop()"
   ]
  },
  {
   "cell_type": "code",
   "execution_count": 5,
   "metadata": {},
   "outputs": [],
   "source": [
    "vectorizer_0 = TfidfVectorizer()\n",
    "vz = vectorizer_0.fit_transform(docs)\n",
    "words = vectorizer_0.get_feature_names()"
   ]
  },
  {
   "cell_type": "code",
   "execution_count": 8,
   "metadata": {},
   "outputs": [
    {
     "data": {
      "text/html": [
       "<div>\n",
       "<style scoped>\n",
       "    .dataframe tbody tr th:only-of-type {\n",
       "        vertical-align: middle;\n",
       "    }\n",
       "\n",
       "    .dataframe tbody tr th {\n",
       "        vertical-align: top;\n",
       "    }\n",
       "\n",
       "    .dataframe thead th {\n",
       "        text-align: right;\n",
       "    }\n",
       "</style>\n",
       "<table border=\"1\" class=\"dataframe\">\n",
       "  <thead>\n",
       "    <tr style=\"text-align: right;\">\n",
       "      <th></th>\n",
       "      <th>tfidf</th>\n",
       "    </tr>\n",
       "  </thead>\n",
       "  <tbody>\n",
       "    <tr>\n",
       "      <th>aafia</th>\n",
       "      <td>7.497278</td>\n",
       "    </tr>\n",
       "    <tr>\n",
       "      <th>aamir</th>\n",
       "      <td>7.902743</td>\n",
       "    </tr>\n",
       "    <tr>\n",
       "      <th>ababa</th>\n",
       "      <td>7.902743</td>\n",
       "    </tr>\n",
       "    <tr>\n",
       "      <th>aback</th>\n",
       "      <td>7.902743</td>\n",
       "    </tr>\n",
       "    <tr>\n",
       "      <th>aban</th>\n",
       "      <td>7.902743</td>\n",
       "    </tr>\n",
       "  </tbody>\n",
       "</table>\n",
       "</div>"
      ],
      "text/plain": [
       "          tfidf\n",
       "aafia  7.497278\n",
       "aamir  7.902743\n",
       "ababa  7.902743\n",
       "aback  7.902743\n",
       "aban   7.902743"
      ]
     },
     "execution_count": 8,
     "metadata": {},
     "output_type": "execute_result"
    }
   ],
   "source": [
    "tfidf = dict(zip(vectorizer_0.get_feature_names(), vectorizer_0.idf_))\n",
    "tfidf = pd.DataFrame(columns=['tfidf']).from_dict(\n",
    "                    dict(tfidf), orient='index')\n",
    "tfidf.columns = ['tfidf']\n",
    "tfidf.head()"
   ]
  },
  {
   "cell_type": "code",
   "execution_count": 9,
   "metadata": {},
   "outputs": [
    {
     "data": {
      "text/html": [
       "<div>\n",
       "<style scoped>\n",
       "    .dataframe tbody tr th:only-of-type {\n",
       "        vertical-align: middle;\n",
       "    }\n",
       "\n",
       "    .dataframe tbody tr th {\n",
       "        vertical-align: top;\n",
       "    }\n",
       "\n",
       "    .dataframe thead th {\n",
       "        text-align: right;\n",
       "    }\n",
       "</style>\n",
       "<table border=\"1\" class=\"dataframe\">\n",
       "  <thead>\n",
       "    <tr style=\"text-align: right;\">\n",
       "      <th></th>\n",
       "      <th>tfidf</th>\n",
       "    </tr>\n",
       "  </thead>\n",
       "  <tbody>\n",
       "    <tr>\n",
       "      <th>us</th>\n",
       "      <td>2.589537</td>\n",
       "    </tr>\n",
       "    <tr>\n",
       "      <th>kill</th>\n",
       "      <td>2.755248</td>\n",
       "    </tr>\n",
       "    <tr>\n",
       "      <th>israel</th>\n",
       "      <td>2.778779</td>\n",
       "    </tr>\n",
       "    <tr>\n",
       "      <th>people</th>\n",
       "      <td>2.892107</td>\n",
       "    </tr>\n",
       "    <tr>\n",
       "      <th>war</th>\n",
       "      <td>2.926009</td>\n",
       "    </tr>\n",
       "    <tr>\n",
       "      <th>israeli</th>\n",
       "      <td>2.936408</td>\n",
       "    </tr>\n",
       "    <tr>\n",
       "      <th>world</th>\n",
       "      <td>2.936408</td>\n",
       "    </tr>\n",
       "    <tr>\n",
       "      <th>new</th>\n",
       "      <td>2.990088</td>\n",
       "    </tr>\n",
       "    <tr>\n",
       "      <th>government</th>\n",
       "      <td>2.990088</td>\n",
       "    </tr>\n",
       "    <tr>\n",
       "      <th>attack</th>\n",
       "      <td>3.062500</td>\n",
       "    </tr>\n",
       "  </tbody>\n",
       "</table>\n",
       "</div>"
      ],
      "text/plain": [
       "               tfidf\n",
       "us          2.589537\n",
       "kill        2.755248\n",
       "israel      2.778779\n",
       "people      2.892107\n",
       "war         2.926009\n",
       "israeli     2.936408\n",
       "world       2.936408\n",
       "new         2.990088\n",
       "government  2.990088\n",
       "attack      3.062500"
      ]
     },
     "execution_count": 9,
     "metadata": {},
     "output_type": "execute_result"
    }
   ],
   "source": [
    "tfidf.sort_values(by=['tfidf'], ascending=True).head(10)"
   ]
  },
  {
   "cell_type": "code",
   "execution_count": 10,
   "metadata": {},
   "outputs": [],
   "source": [
    "df = pd.read_csv(\"data\\Combined_data.csv\")\n",
    "df_0=df[(df['Label'].isin([0]))]\n",
    "df_1=df[(df['Label'].isin([1]))]"
   ]
  },
  {
   "cell_type": "code",
   "execution_count": 11,
   "metadata": {},
   "outputs": [],
   "source": [
    "sc =SparkContext()\n",
    "rdd = sc.textFile('data/new_data_1.csv')\n",
    "#rdd.take(5)\n",
    "lines = rdd.map(Func_1)\n",
    "docs_1=lines.take(1989)\n",
    "counts = lines.flatMap(lambda x: x.split(' '))\n",
    "counts = counts.filter(lambda x: x not in filtered_words)\n",
    "counts = counts.map(lambda x: (x, 1)) \\\n",
    "                  .reduceByKey(add)\n",
    "output = counts.collect()\n",
    "output.sort()\n",
    "output = sorted(output,key=lambda x: x[1],reverse = True)\n",
    "#print(output)\n",
    "sc.stop()\n",
    "sc =SparkContext()\n",
    "rdd = sc.textFile('data/new_data_0.csv')\n",
    "#rdd.take(5)\n",
    "lines = rdd.map(Func_1)\n",
    "docs_0=lines.take(1989)\n",
    "counts = lines.flatMap(lambda x: x.split(' '))\n",
    "counts = counts.filter(lambda x: x not in filtered_words)\n",
    "counts = counts.map(lambda x: (x, 1)) \\\n",
    "                  .reduceByKey(add)\n",
    "output = counts.collect()\n",
    "output.sort()\n",
    "output = sorted(output,key=lambda x: x[1],reverse = True)\n",
    "#print(output)\n",
    "sc.stop()"
   ]
  },
  {
   "cell_type": "code",
   "execution_count": 12,
   "metadata": {},
   "outputs": [],
   "source": [
    "news = []\n",
    "news.append(\"\")\n",
    "for sentence in docs_0:\n",
    "    news[0]+= sentence\n",
    "news.append(\"\")\n",
    "\n",
    "for sentence in docs_1:\n",
    "    news[1]+= sentence"
   ]
  },
  {
   "cell_type": "code",
   "execution_count": 13,
   "metadata": {},
   "outputs": [],
   "source": [
    "vectorizer_1 = TfidfVectorizer()\n",
    "vz_news = vectorizer_1.fit_transform(news)\n",
    "words = vectorizer_1.get_feature_names()"
   ]
  },
  {
   "cell_type": "code",
   "execution_count": 14,
   "metadata": {},
   "outputs": [
    {
     "name": "stdout",
     "output_type": "stream",
     "text": [
      "          term      rank\n",
      "11          us  0.328801\n",
      "4       israel  0.225862\n",
      "6         kill  0.169548\n",
      "5      israeli  0.163492\n",
      "1         gaza  0.158648\n",
      "12         war  0.154409\n",
      "8       people  0.134427\n",
      "7          new  0.129583\n",
      "3         iran  0.127161\n",
      "9       police  0.117472\n",
      "13       world  0.117472\n",
      "0       attack  0.113839\n",
      "2   government  0.113234\n",
      "14       years  0.105362\n",
      "10          uk  0.102334\n"
     ]
    }
   ],
   "source": [
    "ranking_0 = []\n",
    "for j in range(len(words)):\n",
    "        if vz_news[0,j] > 0.1:\n",
    "              ranking_0.append((words[j], vz_news[0,j]))\n",
    "df_0_ranking = pd.DataFrame(ranking_0,columns=[\"term\",\"rank\"])\n",
    "print(df_0_ranking.sort_values(\"rank\",ascending=False))\n"
   ]
  },
  {
   "cell_type": "code",
   "execution_count": 15,
   "metadata": {},
   "outputs": [
    {
     "name": "stdout",
     "output_type": "stream",
     "text": [
      "          term      rank\n",
      "12          us  0.298699\n",
      "3       israel  0.225884\n",
      "5         kill  0.187617\n",
      "4      israeli  0.177518\n",
      "13         war  0.153601\n",
      "8       police  0.134468\n",
      "1         gaza  0.133936\n",
      "7       people  0.126495\n",
      "6          new  0.125432\n",
      "2   government  0.124901\n",
      "0       attack  0.114271\n",
      "14       world  0.112676\n",
      "11          uk  0.104704\n",
      "9        right  0.101515\n",
      "10       state  0.100452\n"
     ]
    }
   ],
   "source": [
    "ranking_1 = []\n",
    "for j in range(len(words)):\n",
    "        if vz_news[1,j] > 0.1:\n",
    "              ranking_1.append((words[j], vz_news[1,j]))\n",
    "df_1_ranking = pd.DataFrame(ranking_1,columns=[\"term\",\"rank\"])\n",
    "print(df_1_ranking.sort_values(\"rank\",ascending=False))"
   ]
  },
  {
   "cell_type": "markdown",
   "metadata": {},
   "source": [
    "## Visualization\n",
    "#### Map each record into 2D feature space."
   ]
  },
  {
   "cell_type": "code",
   "execution_count": 71,
   "metadata": {},
   "outputs": [
    {
     "data": {
      "text/plain": [
       "<matplotlib.collections.PathCollection at 0x24ec8fc65f8>"
      ]
     },
     "execution_count": 71,
     "metadata": {},
     "output_type": "execute_result"
    },
    {
     "data": {
      "image/png": "[encoded data removed]",
      "text/plain": [
       "<Figure size 432x288 with 1 Axes>"
      ]
     },
     "metadata": {},
     "output_type": "display_data"
    }
   ],
   "source": [
    "from sklearn.manifold import TSNE\n",
    "from sklearn.decomposition import TruncatedSVD\n",
    "\n",
    "n_comp=30\n",
    "svd = TruncatedSVD(n_components=n_comp, random_state=42)\n",
    "svd_tfidf = svd.fit_transform(vz)\n",
    "plt.scatter(tsne[:,0], tsne[:,1], lw=0, s=8,c=labels)"
   ]
  },
  {
   "cell_type": "code",
   "execution_count": 76,
   "metadata": {},
   "outputs": [
    {
     "data": {
      "text/plain": [
       "<matplotlib.collections.PathCollection at 0x24ece24d630>"
      ]
     },
     "execution_count": 76,
     "metadata": {},
     "output_type": "execute_result"
    },
    {
     "data": {
      "image/png": "[encoded data removed]",
      "text/plain": [
       "<Figure size 432x288 with 1 Axes>"
      ]
     },
     "metadata": {},
     "output_type": "display_data"
    }
   ],
   "source": [
    "tsne = TSNE(random_state=20190509,perplexity=300, early_exaggeration=20).fit_transform(svd_tfidf)\n",
    "plt.scatter(tsne[:,0], tsne[:,1], lw=0, s=8,c=labels)"
   ]
  },
  {
   "cell_type": "code",
   "execution_count": null,
   "metadata": {},
   "outputs": [],
   "source": []
  }
 ],
 "metadata": {
  "kernelspec": {
   "display_name": "Python 3",
   "language": "python",
   "name": "python3"
  },
  "language_info": {
   "codemirror_mode": {
    "name": "ipython",
    "version": 3
   },
   "file_extension": ".py",
   "mimetype": "text/x-python",
   "name": "python",
   "nbconvert_exporter": "python",
   "pygments_lexer": "ipython3",
   "version": "3.6.5"
  }
 },
 "nbformat": 4,
 "nbformat_minor": 2
}
